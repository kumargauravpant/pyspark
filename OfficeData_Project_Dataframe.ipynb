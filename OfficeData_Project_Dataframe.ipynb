{
 "cells": [
  {
   "cell_type": "code",
   "execution_count": 1,
   "metadata": {},
   "outputs": [],
   "source": [
    "import findspark\n",
    "findspark.init()"
   ]
  },
  {
   "cell_type": "code",
   "execution_count": 2,
   "metadata": {},
   "outputs": [],
   "source": [
    "from pyspark.sql import SparkSession\n",
    "from pyspark.sql.functions import count, min, max, avg, col, lit, udf"
   ]
  },
  {
   "cell_type": "code",
   "execution_count": 3,
   "metadata": {},
   "outputs": [],
   "source": [
    "spark = SparkSession.builder.appName('DataframeProject').getOrCreate()"
   ]
  },
  {
   "cell_type": "code",
   "execution_count": 4,
   "metadata": {},
   "outputs": [
    {
     "name": "stdout",
     "output_type": "stream",
     "text": [
      "root\n",
      " |-- employee_id: integer (nullable = true)\n",
      " |-- employee_name: string (nullable = true)\n",
      " |-- department: string (nullable = true)\n",
      " |-- state: string (nullable = true)\n",
      " |-- salary: integer (nullable = true)\n",
      " |-- age: integer (nullable = true)\n",
      " |-- bonus: integer (nullable = true)\n",
      "\n",
      "+-----------+-------------------+----------+-----+------+---+-----+\n",
      "|employee_id|      employee_name|department|state|salary|age|bonus|\n",
      "+-----------+-------------------+----------+-----+------+---+-----+\n",
      "|       1000|          Nitz Leif| Marketing|   CA|  6131| 26|  543|\n",
      "|       1001|    Melissia Dedman|   Finance|   AK|  4027| 43| 1290|\n",
      "|       1002|  Rudolph Barringer|        HR|   LA|  3122| 43| 1445|\n",
      "|       1003|        Tamra Amber|  Accounts|   AK|  5717| 47| 1291|\n",
      "|       1004|        Mullan Nitz|Purchasing|   CA|  5685| 34| 1394|\n",
      "|       1005|      Zollner Karie|  Accounts|   CA|  2843| 27| 1078|\n",
      "|       1006|Kaczorowski Zollner|     Sales|   CA|  7201| 21| 1834|\n",
      "|       1007|      Nakano Locust| Marketing|   LA|  3444| 23| 1823|\n",
      "|       1008|  Recalde Kensinger|  Accounts|   LA|  3704| 48| 1330|\n",
      "|       1009|        Imai Hallie|  Accounts|   AK|  5061| 38| 1557|\n",
      "|       1010|    Debroah Gallman|  Accounts|   NY|  9308| 35|  817|\n",
      "|       1011|   Barringer Escoto|Purchasing|   WA|  1685| 49| 1706|\n",
      "|       1012|      Soules Coogan|  Accounts|   AK|  8330| 43| 1914|\n",
      "|       1013|      Luisa Suzanne|  Accounts|   CA|  1151| 37| 1095|\n",
      "|       1014|      Marvis Cobian|Purchasing|   NY|  5061| 41| 1765|\n",
      "|       1015|   Cobian Kensinger|     Sales|   LA|  1983| 21|  632|\n",
      "|       1016|      Gilma Margret| Marketing|   CA|  2919| 45| 1762|\n",
      "|       1017| Ellingsworth Ilana|  Accounts|   WA|  9614| 26| 1964|\n",
      "|       1018| Vankirk Jacquelyne|Purchasing|   NY|  8636| 47| 1192|\n",
      "|       1019|    Zollner Juliana|        HR|   NY|  9739| 30| 1119|\n",
      "+-----------+-------------------+----------+-----+------+---+-----+\n",
      "only showing top 20 rows\n",
      "\n"
     ]
    }
   ],
   "source": [
    "df = spark.read.options(inferSchema='True', header='True').csv('data/OfficeDataProject.csv')\n",
    "df.printSchema()\n",
    "df.show()"
   ]
  },
  {
   "cell_type": "markdown",
   "metadata": {},
   "source": [
    "#### Total Employees in the company"
   ]
  },
  {
   "cell_type": "code",
   "execution_count": 5,
   "metadata": {},
   "outputs": [
    {
     "data": {
      "text/plain": [
       "1000"
      ]
     },
     "execution_count": 5,
     "metadata": {},
     "output_type": "execute_result"
    }
   ],
   "source": [
    "df.count()"
   ]
  },
  {
   "cell_type": "markdown",
   "metadata": {},
   "source": [
    "#### Total Departments in the company"
   ]
  },
  {
   "cell_type": "code",
   "execution_count": 6,
   "metadata": {},
   "outputs": [
    {
     "data": {
      "text/plain": [
       "6"
      ]
     },
     "execution_count": 6,
     "metadata": {},
     "output_type": "execute_result"
    }
   ],
   "source": [
    "df.select('department').distinct().count()"
   ]
  },
  {
   "cell_type": "markdown",
   "metadata": {},
   "source": [
    "#### Departments in the company"
   ]
  },
  {
   "cell_type": "code",
   "execution_count": 7,
   "metadata": {},
   "outputs": [
    {
     "name": "stdout",
     "output_type": "stream",
     "text": [
      "+----------+\n",
      "|department|\n",
      "+----------+\n",
      "|     Sales|\n",
      "|        HR|\n",
      "|   Finance|\n",
      "|Purchasing|\n",
      "| Marketing|\n",
      "|  Accounts|\n",
      "+----------+\n",
      "\n"
     ]
    }
   ],
   "source": [
    "df.select('department').distinct().show()"
   ]
  },
  {
   "cell_type": "markdown",
   "metadata": {},
   "source": [
    "#### Employees in each department"
   ]
  },
  {
   "cell_type": "code",
   "execution_count": 8,
   "metadata": {},
   "outputs": [
    {
     "name": "stdout",
     "output_type": "stream",
     "text": [
      "+----------+--------------+\n",
      "|department|total_Employee|\n",
      "+----------+--------------+\n",
      "|     Sales|           169|\n",
      "|        HR|           171|\n",
      "|   Finance|           162|\n",
      "|Purchasing|           166|\n",
      "| Marketing|           170|\n",
      "|  Accounts|           162|\n",
      "+----------+--------------+\n",
      "\n"
     ]
    }
   ],
   "source": [
    "df.groupBy('department').agg(count('employee_id').alias('total_Employee')).distinct().show()"
   ]
  },
  {
   "cell_type": "markdown",
   "metadata": {},
   "source": [
    "#### Employee in each states"
   ]
  },
  {
   "cell_type": "code",
   "execution_count": 9,
   "metadata": {},
   "outputs": [
    {
     "name": "stdout",
     "output_type": "stream",
     "text": [
      "+-----+---------+\n",
      "|state|total_emp|\n",
      "+-----+---------+\n",
      "|   LA|      205|\n",
      "|   CA|      205|\n",
      "|   WA|      208|\n",
      "|   NY|      173|\n",
      "|   AK|      209|\n",
      "+-----+---------+\n",
      "\n"
     ]
    }
   ],
   "source": [
    "df.groupBy('state').agg(count('employee_id').alias('total_emp')).show()"
   ]
  },
  {
   "cell_type": "markdown",
   "metadata": {},
   "source": [
    "#### Employee in each state and department"
   ]
  },
  {
   "cell_type": "code",
   "execution_count": 10,
   "metadata": {},
   "outputs": [
    {
     "name": "stdout",
     "output_type": "stream",
     "text": [
      "+-----+----------+---------+\n",
      "|state|department|total_emp|\n",
      "+-----+----------+---------+\n",
      "|   AK|Purchasing|       30|\n",
      "|   AK|  Accounts|       37|\n",
      "|   AK|        HR|       25|\n",
      "|   AK|     Sales|       38|\n",
      "|   AK|   Finance|       37|\n",
      "|   AK| Marketing|       42|\n",
      "|   CA|   Finance|       35|\n",
      "|   CA|        HR|       28|\n",
      "|   CA|     Sales|       42|\n",
      "|   CA| Marketing|       33|\n",
      "|   CA|Purchasing|       32|\n",
      "|   CA|  Accounts|       35|\n",
      "|   LA|  Accounts|       29|\n",
      "|   LA| Marketing|       26|\n",
      "|   LA|        HR|       41|\n",
      "|   LA|Purchasing|       45|\n",
      "|   LA|   Finance|       29|\n",
      "|   LA|     Sales|       35|\n",
      "|   NY|  Accounts|       34|\n",
      "|   NY|     Sales|       27|\n",
      "+-----+----------+---------+\n",
      "only showing top 20 rows\n",
      "\n"
     ]
    }
   ],
   "source": [
    "df.groupBy('state','department').agg(count('employee_id').alias('total_emp')).orderBy('state').show()"
   ]
  },
  {
   "cell_type": "markdown",
   "metadata": {},
   "source": [
    "#### Min-Max Salaries in Each department"
   ]
  },
  {
   "cell_type": "code",
   "execution_count": 11,
   "metadata": {},
   "outputs": [
    {
     "name": "stdout",
     "output_type": "stream",
     "text": [
      "+----------+-------+-------+\n",
      "|department|min_sal|max_sal|\n",
      "+----------+-------+-------+\n",
      "|   Finance|   1006|   9899|\n",
      "|  Accounts|   1007|   9890|\n",
      "|        HR|   1013|   9982|\n",
      "| Marketing|   1031|   9974|\n",
      "|     Sales|   1103|   9982|\n",
      "|Purchasing|   1105|   9985|\n",
      "+----------+-------+-------+\n",
      "\n"
     ]
    }
   ],
   "source": [
    "df.groupBy('department').agg(min('salary').alias('min_sal'), max('salary').alias('max_sal')).sort(col('min_sal'), col('max_sal')).show()"
   ]
  },
  {
   "cell_type": "markdown",
   "metadata": {},
   "source": [
    "#### NY and Finance Employees having Bonus > avg(bonus)"
   ]
  },
  {
   "cell_type": "code",
   "execution_count": 22,
   "metadata": {},
   "outputs": [
    {
     "name": "stdout",
     "output_type": "stream",
     "text": [
      "+--------------------+\n",
      "|       employee_name|\n",
      "+--------------------+\n",
      "|       Vivan Sifford|\n",
      "|      Herder Gallman|\n",
      "|          Nena Rocha|\n",
      "|       Leif Lemaster|\n",
      "|Ellingsworth Meli...|\n",
      "|        Escoto Gilma|\n",
      "|     Georgeanna Laub|\n",
      "|     Durio Tenenbaum|\n",
      "|       Juliana Grigg|\n",
      "|        Tiffani Benz|\n",
      "|          Nitz Ilana|\n",
      "|   Phylicia Antonina|\n",
      "|         Durio Janey|\n",
      "|       Melissia Jere|\n",
      "|      Yukiko Kreamer|\n",
      "|      Nena Kensinger|\n",
      "|      Antonina Ilana|\n",
      "+--------------------+\n",
      "\n"
     ]
    }
   ],
   "source": [
    "avgBonus = df.filter((df.state == 'NY')).groupBy('state').agg(avg('bonus')).collect()[0][1]\n",
    "df.filter((df.state == 'NY') & (df.department == 'Finance') & (df.bonus > avgBonus)).select('employee_name').show()"
   ]
  },
  {
   "cell_type": "markdown",
   "metadata": {},
   "source": [
    "#### Salary raise for employee age > 45"
   ]
  },
  {
   "cell_type": "code",
   "execution_count": 24,
   "metadata": {},
   "outputs": [],
   "source": [
    "from pyspark.sql.types import IntegerType\n",
    "\n",
    "def getRaisedSalary(age, salary):\n",
    "    if age > 45:\n",
    "        return salary + 500\n",
    "    else:\n",
    "        return salary\n",
    "    \n",
    "salaryUDF = udf(lambda x,y: getRaisedSalary(x,y), IntegerType())\n",
    "\n",
    "raisedSalDF = df.withColumn('salary', salaryUDF(df.age, df.salary))"
   ]
  },
  {
   "cell_type": "code",
   "execution_count": 25,
   "metadata": {},
   "outputs": [
    {
     "name": "stdout",
     "output_type": "stream",
     "text": [
      "+-----------+-------------------+----------+-----+------+---+-----+\n",
      "|employee_id|      employee_name|department|state|salary|age|bonus|\n",
      "+-----------+-------------------+----------+-----+------+---+-----+\n",
      "|       1000|          Nitz Leif| Marketing|   CA|  6131| 26|  543|\n",
      "|       1001|    Melissia Dedman|   Finance|   AK|  4027| 43| 1290|\n",
      "|       1002|  Rudolph Barringer|        HR|   LA|  3122| 43| 1445|\n",
      "|       1003|        Tamra Amber|  Accounts|   AK|  6217| 47| 1291|\n",
      "|       1004|        Mullan Nitz|Purchasing|   CA|  5685| 34| 1394|\n",
      "|       1005|      Zollner Karie|  Accounts|   CA|  2843| 27| 1078|\n",
      "|       1006|Kaczorowski Zollner|     Sales|   CA|  7201| 21| 1834|\n",
      "|       1007|      Nakano Locust| Marketing|   LA|  3444| 23| 1823|\n",
      "|       1008|  Recalde Kensinger|  Accounts|   LA|  4204| 48| 1330|\n",
      "|       1009|        Imai Hallie|  Accounts|   AK|  5061| 38| 1557|\n",
      "|       1010|    Debroah Gallman|  Accounts|   NY|  9308| 35|  817|\n",
      "|       1011|   Barringer Escoto|Purchasing|   WA|  2185| 49| 1706|\n",
      "|       1012|      Soules Coogan|  Accounts|   AK|  8330| 43| 1914|\n",
      "|       1013|      Luisa Suzanne|  Accounts|   CA|  1151| 37| 1095|\n",
      "|       1014|      Marvis Cobian|Purchasing|   NY|  5061| 41| 1765|\n",
      "|       1015|   Cobian Kensinger|     Sales|   LA|  1983| 21|  632|\n",
      "|       1016|      Gilma Margret| Marketing|   CA|  2919| 45| 1762|\n",
      "|       1017| Ellingsworth Ilana|  Accounts|   WA|  9614| 26| 1964|\n",
      "|       1018| Vankirk Jacquelyne|Purchasing|   NY|  9136| 47| 1192|\n",
      "|       1019|    Zollner Juliana|        HR|   NY|  9739| 30| 1119|\n",
      "+-----------+-------------------+----------+-----+------+---+-----+\n",
      "only showing top 20 rows\n",
      "\n"
     ]
    }
   ],
   "source": [
    "raisedSalDF.show()"
   ]
  },
  {
   "cell_type": "markdown",
   "metadata": {},
   "source": [
    "#### Writing data for Employee age > 45"
   ]
  },
  {
   "cell_type": "code",
   "execution_count": 40,
   "metadata": {},
   "outputs": [],
   "source": [
    "#raisedSalDF.write.mode('overwrite').csv('data/output/OfficeDataProject/')"
   ]
  },
  {
   "cell_type": "code",
   "execution_count": 26,
   "metadata": {},
   "outputs": [],
   "source": [
    "spark.stop()"
   ]
  }
 ],
 "metadata": {
  "kernelspec": {
   "display_name": "Python 3",
   "language": "python",
   "name": "python3"
  },
  "language_info": {
   "codemirror_mode": {
    "name": "ipython",
    "version": 3
   },
   "file_extension": ".py",
   "mimetype": "text/x-python",
   "name": "python",
   "nbconvert_exporter": "python",
   "pygments_lexer": "ipython3",
   "version": "3.6.4"
  }
 },
 "nbformat": 4,
 "nbformat_minor": 2
}
