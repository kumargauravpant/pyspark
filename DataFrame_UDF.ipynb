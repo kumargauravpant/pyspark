{
 "cells": [
  {
   "cell_type": "code",
   "execution_count": 1,
   "metadata": {},
   "outputs": [],
   "source": [
    "import findspark\n",
    "findspark.init()"
   ]
  },
  {
   "cell_type": "code",
   "execution_count": 2,
   "metadata": {},
   "outputs": [],
   "source": [
    "from pyspark.sql import SparkSession\n",
    "from pyspark.sql.functions import col,udf\n",
    "from pyspark.sql.types import DoubleType\n",
    "\n",
    "spark = SparkSession.builder.appName('DataframeUDF').getOrCreate()"
   ]
  },
  {
   "cell_type": "code",
   "execution_count": 3,
   "metadata": {},
   "outputs": [
    {
     "name": "stdout",
     "output_type": "stream",
     "text": [
      "+-------------+----------+-----+------+---+-----+\n",
      "|employee_name|department|state|salary|age|bonus|\n",
      "+-------------+----------+-----+------+---+-----+\n",
      "|        James|     Sales|   NY| 90000| 34|10000|\n",
      "|      Michael|     Sales|   NY| 86000| 56|20000|\n",
      "|       Robert|     Sales|   CA| 81000| 30|23000|\n",
      "|        Maria|   Finance|   CA| 90000| 24|23000|\n",
      "|        Raman|   Finance|   CA| 99000| 40|24000|\n",
      "|        Scott|   Finance|   NY| 83000| 36|19000|\n",
      "|          Jen|   Finance|   NY| 79000| 53|15000|\n",
      "|         Jeff| Marketing|   CA| 80000| 25|18000|\n",
      "|        Kumar| Marketing|   NY| 91000| 50|21000|\n",
      "+-------------+----------+-----+------+---+-----+\n",
      "\n"
     ]
    }
   ],
   "source": [
    "df = spark.read.options(header='True', inferSchema='True').csv('data/OfficeData.csv')\n",
    "df.show()"
   ]
  },
  {
   "cell_type": "code",
   "execution_count": 26,
   "metadata": {},
   "outputs": [
    {
     "name": "stdout",
     "output_type": "stream",
     "text": [
      "+-------------+----------+-----+------+---+-----+---------+\n",
      "|employee_name|department|state|salary|age|bonus|increment|\n",
      "+-------------+----------+-----+------+---+-----+---------+\n",
      "|        James|     Sales|   NY| 90000| 34|10000|   9500.0|\n",
      "|      Michael|     Sales|   NY| 86000| 56|20000|   9600.0|\n",
      "|       Robert|     Sales|   CA| 81000| 30|23000|  10410.0|\n",
      "|        Maria|   Finance|   CA| 90000| 24|23000|  11490.0|\n",
      "|        Raman|   Finance|   CA| 99000| 40|24000|  12600.0|\n",
      "|        Scott|   Finance|   NY| 83000| 36|19000|   9250.0|\n",
      "|          Jen|   Finance|   NY| 79000| 53|15000|   8650.0|\n",
      "|         Jeff| Marketing|   CA| 80000| 25|18000|  10140.0|\n",
      "|        Kumar| Marketing|   NY| 91000| 50|21000|  10150.0|\n",
      "+-------------+----------+-----+------+---+-----+---------+\n",
      "\n"
     ]
    }
   ],
   "source": [
    "def getIncrement(state, salary, bonus):\n",
    "    incrementedSalary = 0\n",
    "    if state == 'NY':\n",
    "        incrementedSalary = (salary*.1) + (bonus*.05)\n",
    "    else:\n",
    "        incrementedSalary = (salary*.12) + (bonus*.03)\n",
    "        \n",
    "    return incrementedSalary\n",
    "\n",
    "incrementUDF = udf(lambda x,y,z: getIncrement(x, y, z), DoubleType())\n",
    "\n",
    "incrementDF = df.withColumn('increment', incrementUDF(df.state, df.salary, df.bonus))\n",
    "incrementDF.show()"
   ]
  },
  {
   "cell_type": "code",
   "execution_count": 27,
   "metadata": {},
   "outputs": [],
   "source": [
    "spark.stop()"
   ]
  }
 ],
 "metadata": {
  "kernelspec": {
   "display_name": "Python 3",
   "language": "python",
   "name": "python3"
  },
  "language_info": {
   "codemirror_mode": {
    "name": "ipython",
    "version": 3
   },
   "file_extension": ".py",
   "mimetype": "text/x-python",
   "name": "python",
   "nbconvert_exporter": "python",
   "pygments_lexer": "ipython3",
   "version": "3.6.4"
  }
 },
 "nbformat": 4,
 "nbformat_minor": 2
}
