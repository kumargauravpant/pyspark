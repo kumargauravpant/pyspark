{
 "cells": [
  {
   "cell_type": "code",
   "execution_count": 1,
   "metadata": {},
   "outputs": [],
   "source": [
    "import findspark\n",
    "findspark.init()"
   ]
  },
  {
   "cell_type": "code",
   "execution_count": 4,
   "metadata": {},
   "outputs": [],
   "source": [
    "from pyspark.sql import SparkSession\n",
    "from pyspark.sql.functions import count,sum,avg,min,max,col,lit\n",
    "\n",
    "spark = SparkSession.builder.appName('Dataframe Groupby').getOrCreate()"
   ]
  },
  {
   "cell_type": "code",
   "execution_count": 6,
   "metadata": {},
   "outputs": [
    {
     "name": "stdout",
     "output_type": "stream",
     "text": [
      "+---+------+----------------+------+------+-----+--------------------+\n",
      "|age|gender|            name|course|  roll|marks|               email|\n",
      "+---+------+----------------+------+------+-----+--------------------+\n",
      "| 28|Female| Hubert Oliveras|    DB|  2984|   59|Annika Hoffman_Na...|\n",
      "| 29|Female|Toshiko Hillyard| Cloud| 12899|   62|Margene Moores_Ma...|\n",
      "| 28|  Male|  Celeste Lollis|    PF| 21267|   45|Jeannetta Golden_...|\n",
      "| 29|Female|    Elenore Choy|    DB| 32877|   29|Billi Clore_Mitzi...|\n",
      "| 28|  Male|  Sheryll Towler|   DSA| 41487|   41|Claude Panos_Judi...|\n",
      "| 28|  Male|  Margene Moores|   MVC| 52771|   32|Toshiko Hillyard_...|\n",
      "| 28|  Male|     Neda Briski|   OOP| 61973|   69|Alberta Freund_El...|\n",
      "| 28|Female|    Claude Panos| Cloud| 72409|   85|Sheryll Towler_Al...|\n",
      "| 28|  Male|  Celeste Lollis|   MVC| 81492|   64|Nicole Harwood_Cl...|\n",
      "| 29|  Male|  Cordie Harnois|   OOP| 92882|   51|Judie Chipps_Clem...|\n",
      "| 29|Female|       Kena Wild|   DSA|102285|   35|Dustin Feagins_Ma...|\n",
      "| 29|  Male| Ernest Rossbach|    DB|111449|   53|Maybell Duguay_Ab...|\n",
      "| 28|Female|  Latia Vanhoose|    DB|122502|   27|Latia Vanhoose_Mi...|\n",
      "| 29|Female|  Latia Vanhoose|   MVC|132110|   55|Eda Neathery_Nico...|\n",
      "| 29|  Male|     Neda Briski|    PF|141770|   42|Margene Moores_Mi...|\n",
      "| 29|Female|  Latia Vanhoose|    DB|152159|   27|Claude Panos_Sant...|\n",
      "| 29|  Male|  Loris Crossett|   MVC|161771|   36|Mitzi Seldon_Jenn...|\n",
      "| 29|  Male|  Annika Hoffman|   OOP|171660|   22|Taryn Brownlee_Mi...|\n",
      "| 29|  Male|   Santa Kerfien|    PF|182129|   56|Judie Chipps_Tary...|\n",
      "| 28|Female|Mickey Cortright|    DB|192537|   62|Ernest Rossbach_M...|\n",
      "+---+------+----------------+------+------+-----+--------------------+\n",
      "only showing top 20 rows\n",
      "\n"
     ]
    }
   ],
   "source": [
    "df = spark.read.options(inferSchema='True', header='True').csv('data/Student_Data.csv')\n",
    "df.show()"
   ]
  },
  {
   "cell_type": "markdown",
   "metadata": {},
   "source": [
    "#### No of Students per course"
   ]
  },
  {
   "cell_type": "code",
   "execution_count": 8,
   "metadata": {},
   "outputs": [
    {
     "name": "stdout",
     "output_type": "stream",
     "text": [
      "+------+-----+\n",
      "|course|count|\n",
      "+------+-----+\n",
      "|    PF|  166|\n",
      "|    DB|  157|\n",
      "|   MVC|  157|\n",
      "|   DSA|  176|\n",
      "| Cloud|  192|\n",
      "|   OOP|  152|\n",
      "+------+-----+\n",
      "\n"
     ]
    }
   ],
   "source": [
    "df.groupBy('course').count().show()"
   ]
  },
  {
   "cell_type": "code",
   "execution_count": 9,
   "metadata": {},
   "outputs": [
    {
     "name": "stdout",
     "output_type": "stream",
     "text": [
      "+------+-----------+\n",
      "|Course|count(name)|\n",
      "+------+-----------+\n",
      "|    PF|        166|\n",
      "|    DB|        157|\n",
      "|   MVC|        157|\n",
      "|   DSA|        176|\n",
      "| Cloud|        192|\n",
      "|   OOP|        152|\n",
      "+------+-----------+\n",
      "\n"
     ]
    }
   ],
   "source": [
    "df.groupBy('Course').agg(count('name')).show()"
   ]
  },
  {
   "cell_type": "markdown",
   "metadata": {},
   "source": [
    "#### Total Male and Females in each course"
   ]
  },
  {
   "cell_type": "code",
   "execution_count": 12,
   "metadata": {},
   "outputs": [
    {
     "name": "stdout",
     "output_type": "stream",
     "text": [
      "+------+------+--------+\n",
      "|course|gender|count(1)|\n",
      "+------+------+--------+\n",
      "| Cloud|Female|     106|\n",
      "| Cloud|  Male|      86|\n",
      "|    DB|Female|      75|\n",
      "|    DB|  Male|      82|\n",
      "|   DSA|Female|      98|\n",
      "|   DSA|  Male|      78|\n",
      "|   MVC|Female|      71|\n",
      "|   MVC|  Male|      86|\n",
      "|   OOP|Female|      82|\n",
      "|   OOP|  Male|      70|\n",
      "|    PF|Female|      69|\n",
      "|    PF|  Male|      97|\n",
      "+------+------+--------+\n",
      "\n"
     ]
    }
   ],
   "source": [
    "df.groupBy('course','gender').agg(count('*')).orderBy('course','gender').show()"
   ]
  },
  {
   "cell_type": "markdown",
   "metadata": {},
   "source": [
    "#### Total Marks achieved by each gender in each course"
   ]
  },
  {
   "cell_type": "code",
   "execution_count": 15,
   "metadata": {},
   "outputs": [
    {
     "name": "stdout",
     "output_type": "stream",
     "text": [
      "+------+------+----------+\n",
      "|course|gender|sum(marks)|\n",
      "+------+------+----------+\n",
      "| Cloud|Female|      6316|\n",
      "| Cloud|  Male|      5127|\n",
      "|    DB|Female|      4197|\n",
      "|    DB|  Male|      5073|\n",
      "|   DSA|Female|      6124|\n",
      "|   DSA|  Male|      4826|\n",
      "|   MVC|Female|      4344|\n",
      "|   MVC|  Male|      5241|\n",
      "|   OOP|Female|      4682|\n",
      "|   OOP|  Male|      4234|\n",
      "|    PF|Female|      3973|\n",
      "|    PF|  Male|      5960|\n",
      "+------+------+----------+\n",
      "\n"
     ]
    }
   ],
   "source": [
    "df.groupBy('course','gender').agg(sum('marks')).orderBy('course','gender').show()"
   ]
  },
  {
   "cell_type": "markdown",
   "metadata": {},
   "source": [
    "#### Marks by each age group"
   ]
  },
  {
   "cell_type": "code",
   "execution_count": 17,
   "metadata": {},
   "outputs": [
    {
     "name": "stdout",
     "output_type": "stream",
     "text": [
      "+------+---+---------+---------+------------------+\n",
      "|course|age|min_marks|max_marks|         avg_marks|\n",
      "+------+---+---------+---------+------------------+\n",
      "|   MVC| 28|       23|       99| 60.44444444444444|\n",
      "|   MVC| 29|       22|       99| 61.56470588235294|\n",
      "| Cloud| 28|       20|       99|             58.08|\n",
      "|    PF| 29|       20|       99|56.275862068965516|\n",
      "|    PF| 28|       20|       98| 63.75949367088607|\n",
      "|   OOP| 29|       20|       99|59.729729729729726|\n",
      "|   DSA| 28|       20|       99|  64.6867469879518|\n",
      "| Cloud| 29|       21|       98|             61.25|\n",
      "|    DB| 28|       21|       98| 58.76829268292683|\n",
      "|   DSA| 29|       20|       99| 60.01075268817204|\n",
      "|   OOP| 28|       23|       99| 57.64102564102564|\n",
      "|    DB| 29|       20|       98|59.346666666666664|\n",
      "+------+---+---------+---------+------------------+\n",
      "\n"
     ]
    }
   ],
   "source": [
    "df.groupBy('course','age').agg(min('marks').alias('min_marks'), max('marks').alias('max_marks'), avg('marks').alias('avg_marks')).show()"
   ]
  },
  {
   "cell_type": "code",
   "execution_count": 18,
   "metadata": {},
   "outputs": [],
   "source": [
    "spark.stop()"
   ]
  }
 ],
 "metadata": {
  "kernelspec": {
   "display_name": "Python 3",
   "language": "python",
   "name": "python3"
  },
  "language_info": {
   "codemirror_mode": {
    "name": "ipython",
    "version": 3
   },
   "file_extension": ".py",
   "mimetype": "text/x-python",
   "name": "python",
   "nbconvert_exporter": "python",
   "pygments_lexer": "ipython3",
   "version": "3.6.4"
  }
 },
 "nbformat": 4,
 "nbformat_minor": 2
}
