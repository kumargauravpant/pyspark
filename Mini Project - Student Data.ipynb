{
 "cells": [
  {
   "cell_type": "code",
   "execution_count": 1,
   "metadata": {},
   "outputs": [],
   "source": [
    "import findspark\n",
    "findspark.init()"
   ]
  },
  {
   "cell_type": "code",
   "execution_count": 2,
   "metadata": {},
   "outputs": [],
   "source": [
    "from pyspark import SparkConf, SparkContext\n",
    "\n",
    "conf = SparkConf().setAppName('StudentData')\n",
    "sc = SparkContext.getOrCreate(conf=conf)"
   ]
  },
  {
   "cell_type": "code",
   "execution_count": 10,
   "metadata": {},
   "outputs": [],
   "source": [
    "studentRDD = sc.textFile('data/Student_Data.csv')\n",
    "header = studentRDD.first()\n",
    "studentRDD = studentRDD.filter(lambda x: x != header) #Removing the header"
   ]
  },
  {
   "cell_type": "markdown",
   "metadata": {},
   "source": [
    "#### No. of Students"
   ]
  },
  {
   "cell_type": "code",
   "execution_count": 25,
   "metadata": {},
   "outputs": [
    {
     "name": "stdout",
     "output_type": "stream",
     "text": [
      "Total Students in the class are 50\n"
     ]
    }
   ],
   "source": [
    "totalStudents = studentRDD.map(lambda x: x.split(',')[2]).distinct().count()\n",
    "print(f'Total Students in the class are {totalStudents}')"
   ]
  },
  {
   "cell_type": "markdown",
   "metadata": {},
   "source": [
    "#### Total Marks by Males and Females"
   ]
  },
  {
   "cell_type": "code",
   "execution_count": 29,
   "metadata": {},
   "outputs": [
    {
     "data": {
      "text/plain": [
       "[('Female', 29636), ('Male', 30461)]"
      ]
     },
     "execution_count": 29,
     "metadata": {},
     "output_type": "execute_result"
    }
   ],
   "source": [
    "studentRDD.map(lambda x: x.split(',')).map(lambda x: (x[1], int(x[5]))).reduceByKey(lambda x,y: x+y).collect()"
   ]
  },
  {
   "cell_type": "markdown",
   "metadata": {},
   "source": [
    "#### Pass and Fail Count"
   ]
  },
  {
   "cell_type": "code",
   "execution_count": 38,
   "metadata": {},
   "outputs": [
    {
     "data": {
      "text/plain": [
       "defaultdict(int, {'Fail': 370, 'Pass': 630})"
      ]
     },
     "execution_count": 38,
     "metadata": {},
     "output_type": "execute_result"
    }
   ],
   "source": [
    "marksRDD = studentRDD.map(lambda x: x.split(',')).map(lambda x: (x[2], int(x[5]))).map(lambda x: ('Pass' if x[1] > 50 else 'Fail',x[1]))\n",
    "marksRDD.countByKey()"
   ]
  },
  {
   "cell_type": "code",
   "execution_count": 43,
   "metadata": {},
   "outputs": [
    {
     "data": {
      "text/plain": [
       "[('Pass', 630), ('Fail', 370)]"
      ]
     },
     "execution_count": 43,
     "metadata": {},
     "output_type": "execute_result"
    }
   ],
   "source": [
    "marksRDD.map(lambda x: (x[0],1)).reduceByKey(lambda x,y: x+y).collect()"
   ]
  },
  {
   "cell_type": "markdown",
   "metadata": {},
   "source": [
    "#### No. of Students enrolled per Course"
   ]
  },
  {
   "cell_type": "code",
   "execution_count": 47,
   "metadata": {},
   "outputs": [
    {
     "data": {
      "text/plain": [
       "defaultdict(int,\n",
       "            {'Cloud': 192,\n",
       "             'DB': 157,\n",
       "             'DSA': 176,\n",
       "             'MVC': 157,\n",
       "             'OOP': 152,\n",
       "             'PF': 166})"
      ]
     },
     "execution_count": 47,
     "metadata": {},
     "output_type": "execute_result"
    }
   ],
   "source": [
    "studentRDD.map(lambda x: x.split(',')).map(lambda x: (x[3],x[2])).countByKey()"
   ]
  },
  {
   "cell_type": "markdown",
   "metadata": {},
   "source": [
    "#### Total Marks Per Course"
   ]
  },
  {
   "cell_type": "code",
   "execution_count": 49,
   "metadata": {},
   "outputs": [
    {
     "data": {
      "text/plain": [
       "[('DB', 9270),\n",
       " ('Cloud', 11443),\n",
       " ('PF', 9933),\n",
       " ('MVC', 9585),\n",
       " ('OOP', 8916),\n",
       " ('DSA', 10950)]"
      ]
     },
     "execution_count": 49,
     "metadata": {},
     "output_type": "execute_result"
    }
   ],
   "source": [
    "studentRDD.map(lambda x: x.split(',')).map(lambda x: (x[3],int(x[5]))).reduceByKey(lambda x,y: x+y).collect()"
   ]
  },
  {
   "cell_type": "markdown",
   "metadata": {},
   "source": [
    "#### Average Marks per course"
   ]
  },
  {
   "cell_type": "code",
   "execution_count": 55,
   "metadata": {},
   "outputs": [
    {
     "data": {
      "text/plain": [
       "[('DB', 59.044585987261144),\n",
       " ('Cloud', 59.598958333333336),\n",
       " ('PF', 59.83734939759036),\n",
       " ('MVC', 61.05095541401274),\n",
       " ('OOP', 58.6578947368421),\n",
       " ('DSA', 62.21590909090909)]"
      ]
     },
     "execution_count": 55,
     "metadata": {},
     "output_type": "execute_result"
    }
   ],
   "source": [
    "stageRDD = studentRDD.map(lambda x: x.split(',')).map(lambda x: (x[3],(int(x[5]),1))).reduceByKey(lambda x,y: (x[0]+y[0],x[1]+y[1]))\n",
    "stageRDD.map(lambda x: (x[0], x[1][0]/x[1][1])).collect()"
   ]
  },
  {
   "cell_type": "markdown",
   "metadata": {},
   "source": [
    "#### Min Max Marks Per Course"
   ]
  },
  {
   "cell_type": "code",
   "execution_count": 61,
   "metadata": {},
   "outputs": [
    {
     "data": {
      "text/plain": [
       "[('DB', 20, 98),\n",
       " ('Cloud', 20, 99),\n",
       " ('PF', 20, 99),\n",
       " ('MVC', 22, 99),\n",
       " ('OOP', 20, 99),\n",
       " ('DSA', 20, 99)]"
      ]
     },
     "execution_count": 61,
     "metadata": {},
     "output_type": "execute_result"
    }
   ],
   "source": [
    "studentRDD.map(lambda x: x.split(',')).map(lambda x: (x[3],int(x[5]))).groupByKey().map(lambda x: (x[0], min(x[1]), max(x[1]))).collect()"
   ]
  },
  {
   "cell_type": "markdown",
   "metadata": {},
   "source": [
    "#### Average Age of Male and Females"
   ]
  },
  {
   "cell_type": "code",
   "execution_count": 62,
   "metadata": {},
   "outputs": [
    {
     "data": {
      "text/plain": [
       "[('Female', 28.489021956087825), ('Male', 28.52304609218437)]"
      ]
     },
     "execution_count": 62,
     "metadata": {},
     "output_type": "execute_result"
    }
   ],
   "source": [
    "stageRDD = studentRDD.map(lambda x: x.split(',')).map(lambda x: (x[1],(int(x[0]),1))).reduceByKey(lambda x,y: (x[0]+y[0],x[1]+y[1]))\n",
    "stageRDD.map(lambda x: (x[0], x[1][0]/x[1][1])).collect()"
   ]
  },
  {
   "cell_type": "code",
   "execution_count": 63,
   "metadata": {},
   "outputs": [],
   "source": [
    "sc.stop()"
   ]
  }
 ],
 "metadata": {
  "kernelspec": {
   "display_name": "Python 3",
   "language": "python",
   "name": "python3"
  },
  "language_info": {
   "codemirror_mode": {
    "name": "ipython",
    "version": 3
   },
   "file_extension": ".py",
   "mimetype": "text/x-python",
   "name": "python",
   "nbconvert_exporter": "python",
   "pygments_lexer": "ipython3",
   "version": "3.6.4"
  }
 },
 "nbformat": 4,
 "nbformat_minor": 2
}
