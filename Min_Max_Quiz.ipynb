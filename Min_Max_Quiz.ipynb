{
 "cells": [
  {
   "cell_type": "code",
   "execution_count": 1,
   "metadata": {},
   "outputs": [],
   "source": [
    "import findspark\n",
    "findspark.init()"
   ]
  },
  {
   "cell_type": "code",
   "execution_count": 2,
   "metadata": {},
   "outputs": [],
   "source": [
    "from pyspark import SparkContext, SparkConf\n",
    "\n",
    "conf = SparkConf().setAppName('MinMaxQuiz')\n",
    "sc = SparkContext.getOrCreate(conf=conf)"
   ]
  },
  {
   "cell_type": "code",
   "execution_count": 3,
   "metadata": {},
   "outputs": [
    {
     "data": {
      "text/plain": [
       "['JAN,NY,3.0',\n",
       " 'JAN,PA,1.0',\n",
       " 'JAN,NJ,2.0',\n",
       " 'JAN,CT,4.0',\n",
       " 'FEB,PA,1.0',\n",
       " 'FEB,NJ,1.0',\n",
       " 'FEB,NY,2.0',\n",
       " 'FEB,VT,1.0',\n",
       " 'MAR,NJ,2.0',\n",
       " 'MAR,NY,1.0',\n",
       " 'MAR,VT,2.0',\n",
       " 'MAR,PA,3.0']"
      ]
     },
     "execution_count": 3,
     "metadata": {},
     "output_type": "execute_result"
    }
   ],
   "source": [
    "inputRDD = sc.textFile('data/average_quiz.csv')\n",
    "inputRDD.collect()"
   ]
  },
  {
   "cell_type": "code",
   "execution_count": 5,
   "metadata": {},
   "outputs": [
    {
     "data": {
      "text/plain": [
       "[('NY', 1.0, 3.0),\n",
       " ('CT', 4.0, 4.0),\n",
       " ('PA', 1.0, 3.0),\n",
       " ('NJ', 1.0, 2.0),\n",
       " ('VT', 1.0, 2.0)]"
      ]
     },
     "execution_count": 5,
     "metadata": {},
     "output_type": "execute_result"
    }
   ],
   "source": [
    "resultRDD = inputRDD.map(lambda x: x.split(',')).map(lambda x: (x[1], float(x[2]))).groupByKey().map(lambda x: (x[0], min(x[1]), max(x[1])))\n",
    "resultRDD.collect()"
   ]
  },
  {
   "cell_type": "code",
   "execution_count": 6,
   "metadata": {},
   "outputs": [],
   "source": [
    "sc.stop()"
   ]
  }
 ],
 "metadata": {
  "kernelspec": {
   "display_name": "Python 3",
   "language": "python",
   "name": "python3"
  },
  "language_info": {
   "codemirror_mode": {
    "name": "ipython",
    "version": 3
   },
   "file_extension": ".py",
   "mimetype": "text/x-python",
   "name": "python",
   "nbconvert_exporter": "python",
   "pygments_lexer": "ipython3",
   "version": "3.6.4"
  }
 },
 "nbformat": 4,
 "nbformat_minor": 2
}
