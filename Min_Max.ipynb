{
 "cells": [
  {
   "cell_type": "code",
   "execution_count": 1,
   "metadata": {},
   "outputs": [],
   "source": [
    "import findspark\n",
    "findspark.init()"
   ]
  },
  {
   "cell_type": "code",
   "execution_count": 2,
   "metadata": {},
   "outputs": [],
   "source": [
    "from pyspark import SparkConf, SparkContext\n",
    "\n",
    "conf = SparkConf().setAppName('MinMax')\n",
    "sc = SparkContext.getOrCreate(conf=conf)"
   ]
  },
  {
   "cell_type": "code",
   "execution_count": 3,
   "metadata": {},
   "outputs": [
    {
     "data": {
      "text/plain": [
       "['The Shawshank Redemption,3',\n",
       " 'The Matrix,5',\n",
       " '12 Angry Men,3',\n",
       " '12 Angry Men,4',\n",
       " 'The Matrix,5',\n",
       " 'Pulp Fiction,4',\n",
       " 'The Godfather,5',\n",
       " 'The Shawshank Redemption,2',\n",
       " 'Pulp Fiction,4',\n",
       " 'The Godfather,5',\n",
       " '12 Angry Men,2',\n",
       " 'The Godfather,3',\n",
       " 'Pulp Fiction,4',\n",
       " '12 Angry Men,1',\n",
       " 'The Shawshank Redemption,2',\n",
       " '12 Angry Men,1',\n",
       " 'The Shawshank Redemption,5',\n",
       " 'Pulp Fiction,5',\n",
       " 'Pulp Fiction,2',\n",
       " 'The Matrix,4']"
      ]
     },
     "execution_count": 3,
     "metadata": {},
     "output_type": "execute_result"
    }
   ],
   "source": [
    "inputRDD = sc.textFile('data/movie_ratings.csv')\n",
    "inputRDD.collect()"
   ]
  },
  {
   "cell_type": "code",
   "execution_count": 4,
   "metadata": {},
   "outputs": [],
   "source": [
    "stageRdd = inputRDD.map(lambda x: x.split(',')).map(lambda x: (x[0], int(x[1])))"
   ]
  },
  {
   "cell_type": "code",
   "execution_count": 5,
   "metadata": {},
   "outputs": [
    {
     "data": {
      "text/plain": [
       "[('The Shawshank Redemption', 2),\n",
       " ('12 Angry Men', 1),\n",
       " ('The Godfather', 3),\n",
       " ('The Matrix', 4),\n",
       " ('Pulp Fiction', 2)]"
      ]
     },
     "execution_count": 5,
     "metadata": {},
     "output_type": "execute_result"
    }
   ],
   "source": [
    "# MIN\n",
    "\n",
    "minRDD = stageRdd.reduceByKey(lambda x,y: x if x < y else y)\n",
    "minRDD.collect()"
   ]
  },
  {
   "cell_type": "code",
   "execution_count": 6,
   "metadata": {},
   "outputs": [
    {
     "data": {
      "text/plain": [
       "[('The Shawshank Redemption', 5),\n",
       " ('12 Angry Men', 4),\n",
       " ('The Godfather', 5),\n",
       " ('The Matrix', 5),\n",
       " ('Pulp Fiction', 5)]"
      ]
     },
     "execution_count": 6,
     "metadata": {},
     "output_type": "execute_result"
    }
   ],
   "source": [
    "# MAX\n",
    "\n",
    "minRDD = stageRdd.reduceByKey(lambda x,y: x if x > y else y)\n",
    "minRDD.collect()"
   ]
  },
  {
   "cell_type": "code",
   "execution_count": 13,
   "metadata": {},
   "outputs": [
    {
     "data": {
      "text/plain": [
       "[('The Shawshank Redemption', 2, 5),\n",
       " ('12 Angry Men', 1, 4),\n",
       " ('The Godfather', 3, 5),\n",
       " ('The Matrix', 4, 5),\n",
       " ('Pulp Fiction', 2, 5)]"
      ]
     },
     "execution_count": 13,
     "metadata": {},
     "output_type": "execute_result"
    }
   ],
   "source": [
    "# GroupBy\n",
    "\n",
    "stageRdd.groupByKey().map(lambda x: (x[0],min(x[1]),max(x[1]))).collect()    #.mapValues(list) => to see the groupped values"
   ]
  },
  {
   "cell_type": "code",
   "execution_count": 14,
   "metadata": {},
   "outputs": [],
   "source": [
    "sc.stop()"
   ]
  }
 ],
 "metadata": {
  "kernelspec": {
   "display_name": "Python 3",
   "language": "python",
   "name": "python3"
  },
  "language_info": {
   "codemirror_mode": {
    "name": "ipython",
    "version": 3
   },
   "file_extension": ".py",
   "mimetype": "text/x-python",
   "name": "python",
   "nbconvert_exporter": "python",
   "pygments_lexer": "ipython3",
   "version": "3.6.4"
  }
 },
 "nbformat": 4,
 "nbformat_minor": 2
}
